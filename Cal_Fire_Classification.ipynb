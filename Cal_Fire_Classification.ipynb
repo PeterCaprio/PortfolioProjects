{
 "cells": [
  {
   "cell_type": "markdown",
   "metadata": {},
   "source": [
    "### Classifying Fires in California between 2013 and 2020 Based on Severity\n",
    "\n",
    "\n",
    "Important features in the dataset for this task include: AcresBurned, AdminUnit, AirTankers Counties, ArchiveYear, MajorIncident\n",
    "\n"
   ]
  },
  {
   "cell_type": "code",
   "execution_count": 2,
   "metadata": {},
   "outputs": [],
   "source": [
    "import pandas as pd\n",
    "import numpy as np\n",
    "import matplotlib as plt\n",
    "from sklearn.model_selection import train_test_split\n",
    "from sklearn.preprocessing import StandardScaler, OneHotEncoder\n",
    "from sklearn.metrics import accuracy_score, classification_report\n",
    "\n",
    "#loading in the data\n",
    "data = pd.read_csv(\"California_Fire_Incidents.csv\", header=0)\n",
    "\n",
    "#modifying the data so it only contains relevant columns\n",
    "data = data[['AcresBurned', 'AdminUnit', 'AirTankers', 'Counties', 'CrewsInvolved','Engines','Injuries', 'ArchiveYear', 'MajorIncident', \n",
    "             'StructuresDamaged', 'StructuresDestroyed','StructuresEvacuated', 'StructuresThreatened']]\n",
    "#removing Mexico, Oregon and Nevada\n",
    "data = data[~data['Counties'].isin(['Mexico', 'State of Oregon', 'State of Nevada'])]\n",
    "\n",
    "#filling in missing values, fires with NaN acres burned are given the mean, 0 for NaN airtankers\n",
    "data['AcresBurned'].fillna(data['AcresBurned'].mean(), inplace=True)\n",
    "data['AirTankers'].fillna(0, inplace=True)\n",
    "data['StructuresDamaged'].fillna(0, inplace=True)\n",
    "data['StructuresDestroyed'].fillna(0, inplace=True)\n",
    "data['StructuresEvacuated'].fillna(0, inplace=True)\n",
    "data['StructuresThreatened'].fillna(0, inplace=True)\n",
    "data['Engines'].fillna(0, inplace=True)\n",
    "data['CrewsInvolved'].fillna(0, inplace=True)\n",
    "data['Injuries'].fillna(0, inplace=True)\n",
    "\n",
    "\n",
    "\n",
    "#encoding for Counties, AdminUnit and MajorIncident\n",
    "# counties_dummies = pd.get_dummies(data['Counties'], prefix='County')\n",
    "# data = pd.concat([data, counties_dummies], axis=1)\n",
    "#data.drop('Counties', axis=1, inplace=True)\n",
    "\n",
    "# admin_dummies = pd.get_dummies(data['AdminUnit'])\n",
    "# data = pd.concat([data, admin_dummies], axis=1)\n",
    "#data.drop('AdminUnit', axis= 1, inplace=True)\n",
    "\n",
    "# incident_dummies = pd.get_dummies(data['MajorIncident'])\n",
    "# data = pd.concat([data, incident_dummies], axis=1)\n",
    "# data.drop('MajorIncident', axis=1, inplace=True)"
   ]
  },
  {
   "cell_type": "markdown",
   "metadata": {},
   "source": [
    "### After preprocessing, the fire data is ready for splitting and getting fed to the models."
   ]
  },
  {
   "cell_type": "markdown",
   "metadata": {},
   "source": [
    "#### Classifier for if an incident is considered \"Major\""
   ]
  },
  {
   "cell_type": "code",
   "execution_count": 3,
   "metadata": {},
   "outputs": [
    {
     "name": "stdout",
     "output_type": "stream",
     "text": [
      "KNN Accuracy: 0.7675840978593272\n",
      "              precision    recall  f1-score   support\n",
      "\n",
      "       False       0.81      0.91      0.86       250\n",
      "        True       0.51      0.31      0.39        77\n",
      "\n",
      "    accuracy                           0.77       327\n",
      "   macro avg       0.66      0.61      0.62       327\n",
      "weighted avg       0.74      0.77      0.75       327\n",
      "\n",
      "RF Accuracy: 0.9235474006116208\n",
      "              precision    recall  f1-score   support\n",
      "\n",
      "       False       0.92      0.99      0.95       250\n",
      "        True       0.95      0.71      0.81        77\n",
      "\n",
      "    accuracy                           0.92       327\n",
      "   macro avg       0.93      0.85      0.88       327\n",
      "weighted avg       0.93      0.92      0.92       327\n",
      "\n",
      "SVM Accuracy: 0.7767584097859327\n",
      "              precision    recall  f1-score   support\n",
      "\n",
      "       False       0.78      0.99      0.87       250\n",
      "        True       0.75      0.08      0.14        77\n",
      "\n",
      "    accuracy                           0.78       327\n",
      "   macro avg       0.76      0.53      0.51       327\n",
      "weighted avg       0.77      0.78      0.70       327\n",
      "\n",
      "MLP Accuracy: 0.8501529051987767\n",
      "              precision    recall  f1-score   support\n",
      "\n",
      "       False       0.84      0.99      0.91       250\n",
      "        True       0.94      0.39      0.55        77\n",
      "\n",
      "    accuracy                           0.85       327\n",
      "   macro avg       0.89      0.69      0.73       327\n",
      "weighted avg       0.86      0.85      0.83       327\n",
      "\n"
     ]
    },
    {
     "data": {
      "image/png": "[encoded data removed]",
      "text/plain": [
       "<Figure size 1000x600 with 1 Axes>"
      ]
     },
     "metadata": {},
     "output_type": "display_data"
    }
   ],
   "source": [
    "import matplotlib.pyplot as plt\n",
    "from sklearn.ensemble import RandomForestClassifier\n",
    "from sklearn.svm import SVC\n",
    "from sklearn.neighbors import KNeighborsClassifier\n",
    "from sklearn.neural_network import MLPClassifier\n",
    "\n",
    "#splitting based on MajorIncident\n",
    "X = data[['AcresBurned', 'AirTankers', 'CrewsInvolved', 'Engines', 'Injuries', 'ArchiveYear', 'StructuresDamaged', 'StructuresDestroyed', 'StructuresEvacuated', 'StructuresThreatened']]\n",
    "y = data['MajorIncident']\n",
    "\n",
    "#train test split \n",
    "X_train, X_test, y_train, y_test = train_test_split(X, y, test_size=0.2, random_state=42)\n",
    "\n",
    "#K-Nearest Neighor\n",
    "KNN = KNeighborsClassifier(n_neighbors=5, weights='uniform', algorithm='auto', metric='minkowski')\n",
    "KNN.fit(X_train, y_train)\n",
    "KNN_pred = KNN.predict(X_test)\n",
    "print(\"KNN Accuracy:\", accuracy_score(y_test, KNN_pred))\n",
    "print(classification_report(y_test, KNN_pred))\n",
    "\n",
    "#Random Forest\n",
    "rf = RandomForestClassifier(n_estimators=100, max_depth=5, random_state=42)\n",
    "rf.fit(X_train, y_train)\n",
    "rf_pred = rf.predict(X_test)\n",
    "print(\"RF Accuracy:\", accuracy_score(y_test, rf_pred))\n",
    "print(classification_report(y_test, rf_pred))\n",
    "\n",
    "#SVM\n",
    "svm = SVC(kernel='poly')\n",
    "svm.fit(X_train, y_train)\n",
    "svm_pred = svm.predict(X_test)\n",
    "print(\"SVM Accuracy:\", accuracy_score(y_test, svm_pred))\n",
    "print(classification_report(y_test, svm_pred))\n",
    "\n",
    "#Multi Layer Perceptron\n",
    "mlp = MLPClassifier(hidden_layer_sizes=(100,), max_iter=300, activation='relu', solver='adam', random_state=42)\n",
    "mlp.fit(X_train, y_train)\n",
    "mlp_pred = mlp.predict(X_test)\n",
    "print(\"MLP Accuracy:\", accuracy_score(y_test, mlp_pred))\n",
    "print(classification_report(y_test, mlp_pred))\n",
    "\n",
    "#Graphing all the accuracies\n",
    "models = ['KNN', 'Random Forest', 'SVM', 'MLP']\n",
    "accuracies = [accuracy_score(y_test, KNN_pred), accuracy_score(y_test, rf_pred), accuracy_score(y_test, svm_pred), accuracy_score(y_test, mlp_pred)]\n",
    "\n",
    "plt.figure(figsize=(10, 6))\n",
    "plt.bar(models, accuracies, color=['blue', 'green', 'red', 'purple'])\n",
    "plt.title('Model Comparison - Accuracy')\n",
    "plt.xlabel('Models')\n",
    "plt.ylabel('Accuracy')\n",
    "plt.show()\n",
    "\n",
    "#TODO: Try out more models and a more robust testing system like GridSearchCV"
   ]
  }
 ],
 "metadata": {
  "kernelspec": {
   "display_name": "Python 3",
   "language": "python",
   "name": "python3"
  },
  "language_info": {
   "codemirror_mode": {
    "name": "ipython",
    "version": 3
   },
   "file_extension": ".py",
   "mimetype": "text/x-python",
   "name": "python",
   "nbconvert_exporter": "python",
   "pygments_lexer": "ipython3",
   "version": "3.11.7"
  }
 },
 "nbformat": 4,
 "nbformat_minor": 2
}
